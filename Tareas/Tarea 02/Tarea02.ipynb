{
  "cells": [
    {
      "cell_type": "markdown",
      "metadata": {
        "id": "0zNIGXFY8EDR"
      },
      "source": [
        "PROBLEMA 1- Hacer un programa que imprima los números del -100 al 200."
      ]
    },
    {
      "cell_type": "code",
      "execution_count": null,
      "metadata": {
        "id": "W7aEIrLK8ZqD"
      },
      "outputs": [],
      "source": [
        "# bucle for para iterar todos los numeros en el rango del -100 al 201 e imprime cada numero con el print\n",
        "for num in range (-100, 201):\n",
        "  print(num)"
      ]
    },
    {
      "cell_type": "markdown",
      "metadata": {
        "id": "LX9yoN_q8tu7"
      },
      "source": [
        "PROBLEMA 2- Hacer un programa que imprima los números del -100 al 200 que sean divisibles entre 6 (con resto 0)"
      ]
    },
    {
      "cell_type": "code",
      "execution_count": null,
      "metadata": {
        "id": "AaPVUSru86M3"
      },
      "outputs": [],
      "source": [
        "#tambien se utiliza un bucle for para iterar los numeros en el rango del -100 al 200, pero, solo se imprime los numeros que son divisible por 6\n",
        "for num in range(-100, 201):\n",
        "    if num % 6 == 0:\n",
        "        print(num)\n",
        "#if define si el numero es divisible por 6 dentro del bucle verifica si lo es\n"
      ]
    },
    {
      "cell_type": "markdown",
      "metadata": {
        "id": "BlI-DXEK9eQu"
      },
      "source": [
        "PROBLEMA 3- Realiza el algoritmo para un sumador de dos números. Si el resultado es menor a 200 se mostrará el mensaje \"menor a 200\", si el resultado es mayor a 200, pero menor a 250 mostrará el mensaje \"mayor a 200\", pero si es mayor a 250 mostrará el mensaje \"mayor a 250\"."
      ]
    },
    {
      "cell_type": "code",
      "execution_count": null,
      "metadata": {
        "id": "_Q6ffMdx9sp9"
      },
      "outputs": [],
      "source": [
        "#def define la funcion llamada sumador_comparador, edad es un int que es un input para ingresar datos, en este caso, numeros enteros,\n",
        "\n",
        "def sumador_comparador():\n",
        "    numero1 = float(input(\"Ingrese el primer número: \")) #La función input() devuelve una cadena de caracteres, que luego se convierte a un número de punto flotante utilizando float(). Esto asegura que el número pueda contener decimales.\n",
        "    numero2 = float(input(\"Ingrese el segundo número: \"))\n",
        "    suma = numero1 + numero2 #Calcula la suma de numero1 y numero2, y la guarda en la variable suma.\n",
        "\n",
        "    if suma < 200: #Comprueba si el valor de suma es menor que 200.\n",
        "        resultado = \"menor a 200\" #Si la suma es menor que 200, se asigna el mensaje \"menor a 200\" a la variable resultado.\n",
        "    elif 200 <= suma < 250: #Si la suma no es menor que 200, pero es mayor o igual a 200 y menor que 250, se ejecuta esta línea.\n",
        "        resultado = \"mayor a 200 y menor a 250\" #Si la suma está en el rango entre 200 y 250, se asigna el mensaje \"mayor a 200 y menor a 250\" a la variable resultado.\n",
        "    else: #Si ninguna de las condiciones anteriores se cumple, es decir, si la suma es mayor o igual a 250, se ejecuta esta línea.\n",
        "        resultado = \"mayor a 250\" #Se asigna el mensaje \"mayor a 250\" a la variable resultado\n",
        "\n",
        "    print(\"El resultado de la suma es:\", suma)  #Se imprime el resultado de la suma\n",
        "    print(\"El resultado es\", resultado) #Se imprime el resultado final de la suma\n",
        "\n",
        "# Llamada a la función\n",
        "sumador_comparador() #Con esto se llama a la función para la ejecución del código\n"
      ]
    },
    {
      "cell_type": "markdown",
      "metadata": {
        "id": "PIzx56RCBypC"
      },
      "source": [
        "PROBLEMA 4- Generar un programa que combine variables, tipos de datos y una condicional en Python (hacer una función que evalúe si el usuario es mayor de edad y si le gusta la música urbana, que envíe diferentes textos según la respuesta del usuario)"
      ]
    },
    {
      "cell_type": "code",
      "execution_count": null,
      "metadata": {
        "id": "hYtyv_2xB4Ov"
      },
      "outputs": [],
      "source": [
        "def evaluar_usuario(): #define una función llamada evaluar_usuario\n",
        "    edad = int(input(\"¿Cuál es tu edad? \")) # La función input() devuelve una cadena de caracteres, que luego se convierte a un número entero utilizando int().\n",
        "    gusta_musica_urbana = input(\"¿Te gusta la música urbana? (Responde 'si' o 'no'): \").lower()  #Lo mismo anterior con la función input pero con la función lower() que se utiliza para convertir la respuesta del usuario a minúsculas, lo que facilita la comparación posterior.\n",
        "\n",
        "    if edad > 18 and gusta_musica_urbana == \"si\": #Este if comprueba si la edad ingresada por el usuario es mayor que 18 (edad > 18) y si la respuesta sobre si le gusta la música urbana es \"si\" (gusta_musica_urbana == \"si\")\n",
        "        resultado = \"Eres mayor de edad y te gusta la música urbana.\" # #Si el usuario es mayor de edad y le gusta la música urbana, se asigna este mensaje a la variable resultado\n",
        "    else: #Si alguna de las condiciones anteriores no se cumple, se ejecuta este bloque de código.(es como decir si no es mayor de edad o si no le gusta)\n",
        "        resultado = \"No eres mayor de edad y no te gusta la música urbana.\" #Se asigna este mensaje a la variable resultado\n",
        "\n",
        "    print(resultado) #Se imprime resultados tanto del if o del else\n",
        "\n",
        "# Llamada a la función\n",
        "evaluar_usuario() #Con esto se llama a la función para la ejecución del código\n"
      ]
    }
  ],
  "metadata": {
    "colab": {
      "provenance": []
    },
    "kernelspec": {
      "display_name": "Python 3",
      "name": "python3"
    },
    "language_info": {
      "name": "python"
    }
  },
  "nbformat": 4,
  "nbformat_minor": 0
}
